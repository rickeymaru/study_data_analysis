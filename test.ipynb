{
 "cells": [
  {
   "cell_type": "code",
   "execution_count": 1,
   "metadata": {},
   "outputs": [
    {
     "data": {
      "text/plain": [
       "2"
      ]
     },
     "execution_count": 1,
     "metadata": {},
     "output_type": "execute_result"
    }
   ],
   "source": [
    "1+1"
   ]
  },
  {
   "cell_type": "code",
   "execution_count": 2,
   "metadata": {},
   "outputs": [
    {
     "name": "stdout",
     "output_type": "stream",
     "text": [
      "Welcome to hangman!!\n",
      "\n",
      "\n",
      "_ _ _\n",
      "\n",
      "________       \n",
      "\n",
      "\n",
      "_ _ _\n",
      "\n",
      "________       \n",
      "|              \n",
      "\n",
      "\n",
      "_ _ _\n",
      "\n",
      "________       \n",
      "|              \n",
      "|       |      \n",
      "\n",
      "\n",
      "_ _ _\n",
      "\n",
      "________       \n",
      "|              \n",
      "|       |      \n",
      "|       O      \n",
      "\n",
      "\n",
      "_ _ _\n",
      "\n",
      "________       \n",
      "|              \n",
      "|       |      \n",
      "|       O      \n",
      "|      /|\\     \n",
      "\n",
      "\n",
      "_ a _\n",
      "\n",
      "________       \n",
      "|              \n",
      "|       |      \n",
      "|       O      \n",
      "|      /|\\     \n",
      "\n",
      "\n",
      "c a _\n",
      "\n",
      "________       \n",
      "|              \n",
      "|       |      \n",
      "|       O      \n",
      "|      /|\\     \n",
      "\n",
      "\n",
      "c a t\n",
      "\n",
      "________       \n",
      "|              \n",
      "|       |      \n",
      "|       O      \n",
      "|      /|\\     \n",
      "You WIN!\n",
      "c a t\n"
     ]
    }
   ],
   "source": [
    "# http://tinyurl.com/h9q2cpc\n",
    "\n",
    "def hangman(word):\n",
    "\twrong = 0\n",
    "\tstages = [\"\",\n",
    "\t          \"________       \",\n",
    "\t          \"|              \",\n",
    "\t          \"|       |      \",\n",
    "\t          \"|       O      \",\n",
    "\t          \"|      /|\\     \",\n",
    "\t          \"|      / \\     \",\n",
    "\t          \"|              \"\n",
    "\t          ]\n",
    "\trletters = list(word)\n",
    "\tboard = [\"_\"] * len(word)\n",
    "\twin = False\n",
    "\tprint(\"Welcome to hangman!!\")\n",
    "\twhile wrong < len(stages) - 1:\n",
    "\t\tprint(\"\\n\")\n",
    "\t\tmsg = \"Predict one of the letter!\"\n",
    "\t\tchar = input(msg)\n",
    "\t\tif char in rletters:\n",
    "\t\t\tcind = rletters.index(char)\n",
    "\t\t\tboard[cind] = char\n",
    "\t\t\trletters[cind] = '$'\n",
    "\t\telse:\n",
    "\t\t\twrong += 1\n",
    "\t\tprint(\" \".join(board))\n",
    "\t\te = wrong + 1\n",
    "\t\tprint(\"\\n\".join(stages[0:e]))\n",
    "\t\tif \"_\" not in board:\n",
    "\t\t\tprint(\"You WIN!\")\n",
    "\t\t\tprint(\" \".join(board))\n",
    "\t\t\twin = True\n",
    "\t\t\tbreak\n",
    "\tif not win:\n",
    "\t\tprint(\"\\n\".join(stages[0:wrong+1]))\n",
    "\t\tprint(\"You LOSE! Answer is {}.\".format(word))\n",
    "\n",
    "\n",
    "hangman(\"cat\")"
   ]
  },
  {
   "cell_type": "code",
   "execution_count": null,
   "metadata": {},
   "outputs": [],
   "source": []
  }
 ],
 "metadata": {
  "kernelspec": {
   "display_name": "python3",
   "language": "python",
   "name": "python3"
  },
  "language_info": {
   "codemirror_mode": {
    "name": "ipython",
    "version": 3
   },
   "file_extension": ".py",
   "mimetype": "text/x-python",
   "name": "python",
   "nbconvert_exporter": "python",
   "pygments_lexer": "ipython3",
   "version": "3.6.4"
  }
 },
 "nbformat": 4,
 "nbformat_minor": 2
}
